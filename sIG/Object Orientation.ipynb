{
 "cells": [
  {
   "cell_type": "markdown",
   "metadata": {},
   "source": [
    "# Object Oriented Programming\n",
    "\n",
    "7 properties of OOPs\n",
    "\n",
    "1. Class\n",
    "            Updated version of structure (struct --  C programming)\n",
    "            Collection of variables and methods.\n",
    "            class is a blueprint.\n",
    "            \n",
    "2. Object\n",
    "            Run time or real time entity.\n",
    "            hash code - id()\n",
    "            a = 10 # id(a)\n",
    "            \n",
    "3. Abstraction and encapsulation\n",
    "            Abstraction - Showing only essential features without showing any background details.\n",
    "            Encapsulation - Wrapping up of data in a single unit.\n",
    "            \n",
    "4. Inheritance\n",
    "            Acquiring properties of one class into another.\n",
    "            Code reusability.\n",
    "            - Single Level\n",
    "            - Multilevel\n",
    "            - Hierarchical\n",
    "            - Multiple\n",
    "            - Hybride\n",
    "            \n",
    "5. Polymorphism\n",
    "            - Method Overloading\n",
    "            - Method Overriding\n",
    "            add()\n",
    "            add(a,b)\n",
    "            add(a,b,c)\n",
    "            add()\n",
    "            \n",
    "6. Dynamic Memory Allocation\n",
    "            Run time memory allocation\n",
    "            Late Binding\n",
    "            Dynamic Binding\n",
    "            \n",
    "7. Message Passing\n",
    "            Communication between objects."
   ]
  },
  {
   "cell_type": "code",
   "execution_count": null,
   "metadata": {},
   "outputs": [],
   "source": [
    "#self --> current object"
   ]
  },
  {
   "cell_type": "code",
   "execution_count": 6,
   "metadata": {},
   "outputs": [
    {
     "name": "stdout",
     "output_type": "stream",
     "text": [
      "Batting\n"
     ]
    }
   ],
   "source": [
    "class Cricket:\n",
    "    def bat(self):\n",
    "        print(\"Batting\")\n",
    "    \n",
    "c = Cricket() # generate id\n",
    "\n",
    "c.bat()"
   ]
  },
  {
   "cell_type": "code",
   "execution_count": 7,
   "metadata": {},
   "outputs": [
    {
     "name": "stdout",
     "output_type": "stream",
     "text": [
      "<__main__.Cricket object at 0x7fedd9023c10>\n"
     ]
    }
   ],
   "source": [
    "print(c)"
   ]
  },
  {
   "cell_type": "code",
   "execution_count": 8,
   "metadata": {},
   "outputs": [
    {
     "name": "stdout",
     "output_type": "stream",
     "text": [
      "<__main__.Cricket object at 0x7fedd9068a90>\n"
     ]
    }
   ],
   "source": [
    "print(Cricket())"
   ]
  },
  {
   "cell_type": "code",
   "execution_count": 9,
   "metadata": {},
   "outputs": [
    {
     "name": "stdout",
     "output_type": "stream",
     "text": [
      "4\n"
     ]
    }
   ],
   "source": [
    "class Football:\n",
    "    def goal(self,x):\n",
    "        self.s = x\n",
    "       #  f.go  = 4\n",
    "    \n",
    "    def display(self):\n",
    "        print(self.s)\n",
    "        \n",
    "f = Football()\n",
    "\n",
    "f.goal(4)\n",
    "f.display()"
   ]
  },
  {
   "cell_type": "code",
   "execution_count": 10,
   "metadata": {},
   "outputs": [],
   "source": [
    "r = Football()\n",
    "r.goal(5)"
   ]
  },
  {
   "cell_type": "code",
   "execution_count": 11,
   "metadata": {},
   "outputs": [
    {
     "name": "stdout",
     "output_type": "stream",
     "text": [
      "5\n"
     ]
    }
   ],
   "source": [
    "r.display()"
   ]
  },
  {
   "cell_type": "code",
   "execution_count": 12,
   "metadata": {},
   "outputs": [
    {
     "name": "stdout",
     "output_type": "stream",
     "text": [
      "4\n"
     ]
    }
   ],
   "source": [
    "f.display()"
   ]
  },
  {
   "cell_type": "code",
   "execution_count": 16,
   "metadata": {},
   "outputs": [],
   "source": [
    "def add(x):\n",
    "    print(x)\n",
    "    "
   ]
  },
  {
   "cell_type": "code",
   "execution_count": 17,
   "metadata": {},
   "outputs": [],
   "source": [
    "def add():\n",
    "    print(\"Hello\")"
   ]
  },
  {
   "cell_type": "code",
   "execution_count": 19,
   "metadata": {},
   "outputs": [],
   "source": [
    "def add():\n",
    "    print(\"Bye\")"
   ]
  },
  {
   "cell_type": "code",
   "execution_count": 20,
   "metadata": {},
   "outputs": [
    {
     "name": "stdout",
     "output_type": "stream",
     "text": [
      "Bye\n"
     ]
    }
   ],
   "source": [
    "add()"
   ]
  },
  {
   "cell_type": "code",
   "execution_count": null,
   "metadata": {},
   "outputs": [],
   "source": []
  }
 ],
 "metadata": {
  "kernelspec": {
   "display_name": "Python 3",
   "language": "python",
   "name": "python3"
  },
  "language_info": {
   "codemirror_mode": {
    "name": "ipython",
    "version": 3
   },
   "file_extension": ".py",
   "mimetype": "text/x-python",
   "name": "python",
   "nbconvert_exporter": "python",
   "pygments_lexer": "ipython3",
   "version": "3.7.6"
  }
 },
 "nbformat": 4,
 "nbformat_minor": 4
}
